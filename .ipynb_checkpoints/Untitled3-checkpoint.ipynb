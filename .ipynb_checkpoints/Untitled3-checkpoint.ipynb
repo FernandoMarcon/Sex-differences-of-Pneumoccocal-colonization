{
 "cells": [
  {
   "cell_type": "code",
   "execution_count": 1,
   "metadata": {},
   "outputs": [
    {
     "data": {
      "text/html": [
       "<style>\n",
       ".dl-inline {width: auto; margin:0; padding: 0}\n",
       ".dl-inline>dt, .dl-inline>dd {float: none; width: auto; display: inline-block}\n",
       ".dl-inline>dt::after {content: \":\\0020\"; padding-right: .5ex}\n",
       ".dl-inline>dt:not(:first-of-type) {padding-left: .5ex}\n",
       "</style><dl class=dl-inline><dt>tidyverse</dt><dd>TRUE</dd><dt>GEOquery</dt><dd>TRUE</dd></dl>\n"
      ],
      "text/latex": [
       "\\begin{description*}\n",
       "\\item[tidyverse] TRUE\n",
       "\\item[GEOquery] TRUE\n",
       "\\end{description*}\n"
      ],
      "text/markdown": [
       "tidyverse\n",
       ":   TRUEGEOquery\n",
       ":   TRUE\n",
       "\n"
      ],
      "text/plain": [
       "tidyverse  GEOquery \n",
       "     TRUE      TRUE "
      ]
     },
     "metadata": {},
     "output_type": "display_data"
    }
   ],
   "source": [
    "pkgs <- c('tidyverse', 'GEOquery')\n",
    "suppressPackageStartupMessages(sapply(pkgs, require, character.only = T))"
   ]
  },
  {
   "cell_type": "code",
   "execution_count": 2,
   "metadata": {},
   "outputs": [],
   "source": [
    "gse_id = 'GSE117580'"
   ]
  },
  {
   "cell_type": "code",
   "execution_count": 3,
   "metadata": {},
   "outputs": [
    {
     "name": "stderr",
     "output_type": "stream",
     "text": [
      "Found 1 file(s)\n",
      "\n",
      "GSE117580_series_matrix.txt.gz\n",
      "\n",
      "\n",
      "\u001b[36m──\u001b[39m \u001b[1m\u001b[1mColumn specification\u001b[1m\u001b[22m \u001b[36m──────────────────────────────────────────────────────────────────────────────────────────────────────────────────────────────────────────────────────────────────────\u001b[39m\n",
      "cols(\n",
      "  .default = col_character()\n",
      ")\n",
      "\u001b[36mℹ\u001b[39m Use \u001b[30m\u001b[47m\u001b[30m\u001b[47m`spec()`\u001b[47m\u001b[30m\u001b[49m\u001b[39m for the full column specifications.\n",
      "\n",
      "\n",
      "File stored at: \n",
      "\n",
      "/tmp/Rtmp6kyMo6/GPL20301.soft\n",
      "\n"
     ]
    }
   ],
   "source": [
    "eset <- getGEO(gse_id)"
   ]
  },
  {
   "cell_type": "code",
   "execution_count": 4,
   "metadata": {},
   "outputs": [
    {
     "data": {
      "text/plain": [
       "$GSE117580_series_matrix.txt.gz\n",
       "ExpressionSet (storageMode: lockedEnvironment)\n",
       "assayData: 0 features, 96 samples \n",
       "  element names: exprs \n",
       "protocolData: none\n",
       "phenoData\n",
       "  sampleNames: GSM3304158 GSM3304159 ... GSM3304253 (96 total)\n",
       "  varLabels: title geo_accession ... vaccine:ch1 (48 total)\n",
       "  varMetadata: labelDescription\n",
       "featureData: none\n",
       "experimentData: use 'experimentData(object)'\n",
       "  pubMedIds: 30374129 \n",
       "Annotation: GPL20301 \n"
      ]
     },
     "metadata": {},
     "output_type": "display_data"
    }
   ],
   "source": [
    "eset"
   ]
  },
  {
   "cell_type": "code",
   "execution_count": 6,
   "metadata": {},
   "outputs": [
    {
     "data": {
      "text/html": [
       "<table class=\"dataframe\">\n",
       "<caption>A data.frame: 6 × 48</caption>\n",
       "<thead>\n",
       "\t<tr><th></th><th scope=col>title</th><th scope=col>geo_accession</th><th scope=col>status</th><th scope=col>submission_date</th><th scope=col>last_update_date</th><th scope=col>type</th><th scope=col>channel_count</th><th scope=col>source_name_ch1</th><th scope=col>organism_ch1</th><th scope=col>characteristics_ch1</th><th scope=col>⋯</th><th scope=col>library_strategy</th><th scope=col>relation</th><th scope=col>relation.1</th><th scope=col>supplementary_file_1</th><th scope=col>carriage status:ch1</th><th scope=col>cell type:ch1</th><th scope=col>subject id:ch1</th><th scope=col>subject status:ch1</th><th scope=col>timepoint:ch1</th><th scope=col>vaccine:ch1</th></tr>\n",
       "\t<tr><th></th><th scope=col>&lt;chr&gt;</th><th scope=col>&lt;chr&gt;</th><th scope=col>&lt;chr&gt;</th><th scope=col>&lt;chr&gt;</th><th scope=col>&lt;chr&gt;</th><th scope=col>&lt;chr&gt;</th><th scope=col>&lt;chr&gt;</th><th scope=col>&lt;chr&gt;</th><th scope=col>&lt;chr&gt;</th><th scope=col>&lt;chr&gt;</th><th scope=col>⋯</th><th scope=col>&lt;chr&gt;</th><th scope=col>&lt;chr&gt;</th><th scope=col>&lt;chr&gt;</th><th scope=col>&lt;chr&gt;</th><th scope=col>&lt;chr&gt;</th><th scope=col>&lt;chr&gt;</th><th scope=col>&lt;chr&gt;</th><th scope=col>&lt;chr&gt;</th><th scope=col>&lt;chr&gt;</th><th scope=col>&lt;chr&gt;</th></tr>\n",
       "</thead>\n",
       "<tbody>\n",
       "\t<tr><th scope=row>GSM3304158</th><td>LAIV_nasal cells_S00153612</td><td>GSM3304158</td><td>Public on Jul 25 2018</td><td>Jul 24 2018</td><td>Jul 25 2018</td><td>SRA</td><td>1</td><td>LAIV_nasal cells_D-4</td><td>Homo sapiens</td><td>subject id: 1060/016/045</td><td>⋯</td><td>RNA-Seq</td><td>BioSample: https://www.ncbi.nlm.nih.gov/biosample/SAMN09708854</td><td>SRA: https://www.ncbi.nlm.nih.gov/sra?term=SRX4452073</td><td>NONE</td><td>POS</td><td>nasal cells</td><td>1060/016/045</td><td>healthy volunteers experimentally challenged with pneumococcus</td><td>D-4</td><td>live attenuated influenza vaccine (LAIV)       </td></tr>\n",
       "\t<tr><th scope=row>GSM3304159</th><td>LAIV_nasal cells_S00153614</td><td>GSM3304159</td><td>Public on Jul 25 2018</td><td>Jul 24 2018</td><td>Jul 25 2018</td><td>SRA</td><td>1</td><td>LAIV_nasal cells_D-4</td><td>Homo sapiens</td><td>subject id: 1105/016/092</td><td>⋯</td><td>RNA-Seq</td><td>BioSample: https://www.ncbi.nlm.nih.gov/biosample/SAMN09708853</td><td>SRA: https://www.ncbi.nlm.nih.gov/sra?term=SRX4452074</td><td>NONE</td><td>NEG</td><td>nasal cells</td><td>1105/016/092</td><td>healthy volunteers experimentally challenged with pneumococcus</td><td>D-4</td><td>live attenuated influenza vaccine (LAIV)       </td></tr>\n",
       "\t<tr><th scope=row>GSM3304160</th><td>LAIV_nasal cells_S00153615</td><td>GSM3304160</td><td>Public on Jul 25 2018</td><td>Jul 24 2018</td><td>Jul 25 2018</td><td>SRA</td><td>1</td><td>LAIV_nasal cells_D-4</td><td>Homo sapiens</td><td>subject id: 1069/016/055</td><td>⋯</td><td>RNA-Seq</td><td>BioSample: https://www.ncbi.nlm.nih.gov/biosample/SAMN09708852</td><td>SRA: https://www.ncbi.nlm.nih.gov/sra?term=SRX4452075</td><td>NONE</td><td>POS</td><td>nasal cells</td><td>1069/016/055</td><td>healthy volunteers experimentally challenged with pneumococcus</td><td>D-4</td><td>live attenuated influenza vaccine (LAIV)       </td></tr>\n",
       "\t<tr><th scope=row>GSM3304161</th><td>TIV_nasal cells_S00153616 </td><td>GSM3304161</td><td>Public on Jul 25 2018</td><td>Jul 24 2018</td><td>Jul 25 2018</td><td>SRA</td><td>1</td><td>TIV_nasal cells_D-4 </td><td>Homo sapiens</td><td>subject id: 1089/016/076</td><td>⋯</td><td>RNA-Seq</td><td>BioSample: https://www.ncbi.nlm.nih.gov/biosample/SAMN09708851</td><td>SRA: https://www.ncbi.nlm.nih.gov/sra?term=SRX4452076</td><td>NONE</td><td>NEG</td><td>nasal cells</td><td>1089/016/076</td><td>healthy volunteers experimentally challenged with pneumococcus</td><td>D-4</td><td>tetravalent inactivated influenza vaccine (TIV)</td></tr>\n",
       "\t<tr><th scope=row>GSM3304162</th><td>LAIV_nasal cells_S00154288</td><td>GSM3304162</td><td>Public on Jul 25 2018</td><td>Jul 24 2018</td><td>Jul 25 2018</td><td>SRA</td><td>1</td><td>LAIV_nasal cells_D2 </td><td>Homo sapiens</td><td>subject id: 1060/016/045</td><td>⋯</td><td>RNA-Seq</td><td>BioSample: https://www.ncbi.nlm.nih.gov/biosample/SAMN09708850</td><td>SRA: https://www.ncbi.nlm.nih.gov/sra?term=SRX4452077</td><td>NONE</td><td>POS</td><td>nasal cells</td><td>1060/016/045</td><td>healthy volunteers experimentally challenged with pneumococcus</td><td>D2 </td><td>live attenuated influenza vaccine (LAIV)       </td></tr>\n",
       "\t<tr><th scope=row>GSM3304163</th><td>LAIV_nasal cells_S00154289</td><td>GSM3304163</td><td>Public on Jul 25 2018</td><td>Jul 24 2018</td><td>Jul 25 2018</td><td>SRA</td><td>1</td><td>LAIV_nasal cells_D2 </td><td>Homo sapiens</td><td>subject id: 1069/016/055</td><td>⋯</td><td>RNA-Seq</td><td>BioSample: https://www.ncbi.nlm.nih.gov/biosample/SAMN09708849</td><td>SRA: https://www.ncbi.nlm.nih.gov/sra?term=SRX4452078</td><td>NONE</td><td>POS</td><td>nasal cells</td><td>1069/016/055</td><td>healthy volunteers experimentally challenged with pneumococcus</td><td>D2 </td><td>live attenuated influenza vaccine (LAIV)       </td></tr>\n",
       "</tbody>\n",
       "</table>\n"
      ],
      "text/latex": [
       "A data.frame: 6 × 48\n",
       "\\begin{tabular}{r|lllllllllllllllllllll}\n",
       "  & title & geo\\_accession & status & submission\\_date & last\\_update\\_date & type & channel\\_count & source\\_name\\_ch1 & organism\\_ch1 & characteristics\\_ch1 & ⋯ & library\\_strategy & relation & relation.1 & supplementary\\_file\\_1 & carriage status:ch1 & cell type:ch1 & subject id:ch1 & subject status:ch1 & timepoint:ch1 & vaccine:ch1\\\\\n",
       "  & <chr> & <chr> & <chr> & <chr> & <chr> & <chr> & <chr> & <chr> & <chr> & <chr> & ⋯ & <chr> & <chr> & <chr> & <chr> & <chr> & <chr> & <chr> & <chr> & <chr> & <chr>\\\\\n",
       "\\hline\n",
       "\tGSM3304158 & LAIV\\_nasal cells\\_S00153612 & GSM3304158 & Public on Jul 25 2018 & Jul 24 2018 & Jul 25 2018 & SRA & 1 & LAIV\\_nasal cells\\_D-4 & Homo sapiens & subject id: 1060/016/045 & ⋯ & RNA-Seq & BioSample: https://www.ncbi.nlm.nih.gov/biosample/SAMN09708854 & SRA: https://www.ncbi.nlm.nih.gov/sra?term=SRX4452073 & NONE & POS & nasal cells & 1060/016/045 & healthy volunteers experimentally challenged with pneumococcus & D-4 & live attenuated influenza vaccine (LAIV)       \\\\\n",
       "\tGSM3304159 & LAIV\\_nasal cells\\_S00153614 & GSM3304159 & Public on Jul 25 2018 & Jul 24 2018 & Jul 25 2018 & SRA & 1 & LAIV\\_nasal cells\\_D-4 & Homo sapiens & subject id: 1105/016/092 & ⋯ & RNA-Seq & BioSample: https://www.ncbi.nlm.nih.gov/biosample/SAMN09708853 & SRA: https://www.ncbi.nlm.nih.gov/sra?term=SRX4452074 & NONE & NEG & nasal cells & 1105/016/092 & healthy volunteers experimentally challenged with pneumococcus & D-4 & live attenuated influenza vaccine (LAIV)       \\\\\n",
       "\tGSM3304160 & LAIV\\_nasal cells\\_S00153615 & GSM3304160 & Public on Jul 25 2018 & Jul 24 2018 & Jul 25 2018 & SRA & 1 & LAIV\\_nasal cells\\_D-4 & Homo sapiens & subject id: 1069/016/055 & ⋯ & RNA-Seq & BioSample: https://www.ncbi.nlm.nih.gov/biosample/SAMN09708852 & SRA: https://www.ncbi.nlm.nih.gov/sra?term=SRX4452075 & NONE & POS & nasal cells & 1069/016/055 & healthy volunteers experimentally challenged with pneumococcus & D-4 & live attenuated influenza vaccine (LAIV)       \\\\\n",
       "\tGSM3304161 & TIV\\_nasal cells\\_S00153616  & GSM3304161 & Public on Jul 25 2018 & Jul 24 2018 & Jul 25 2018 & SRA & 1 & TIV\\_nasal cells\\_D-4  & Homo sapiens & subject id: 1089/016/076 & ⋯ & RNA-Seq & BioSample: https://www.ncbi.nlm.nih.gov/biosample/SAMN09708851 & SRA: https://www.ncbi.nlm.nih.gov/sra?term=SRX4452076 & NONE & NEG & nasal cells & 1089/016/076 & healthy volunteers experimentally challenged with pneumococcus & D-4 & tetravalent inactivated influenza vaccine (TIV)\\\\\n",
       "\tGSM3304162 & LAIV\\_nasal cells\\_S00154288 & GSM3304162 & Public on Jul 25 2018 & Jul 24 2018 & Jul 25 2018 & SRA & 1 & LAIV\\_nasal cells\\_D2  & Homo sapiens & subject id: 1060/016/045 & ⋯ & RNA-Seq & BioSample: https://www.ncbi.nlm.nih.gov/biosample/SAMN09708850 & SRA: https://www.ncbi.nlm.nih.gov/sra?term=SRX4452077 & NONE & POS & nasal cells & 1060/016/045 & healthy volunteers experimentally challenged with pneumococcus & D2  & live attenuated influenza vaccine (LAIV)       \\\\\n",
       "\tGSM3304163 & LAIV\\_nasal cells\\_S00154289 & GSM3304163 & Public on Jul 25 2018 & Jul 24 2018 & Jul 25 2018 & SRA & 1 & LAIV\\_nasal cells\\_D2  & Homo sapiens & subject id: 1069/016/055 & ⋯ & RNA-Seq & BioSample: https://www.ncbi.nlm.nih.gov/biosample/SAMN09708849 & SRA: https://www.ncbi.nlm.nih.gov/sra?term=SRX4452078 & NONE & POS & nasal cells & 1069/016/055 & healthy volunteers experimentally challenged with pneumococcus & D2  & live attenuated influenza vaccine (LAIV)       \\\\\n",
       "\\end{tabular}\n"
      ],
      "text/markdown": [
       "\n",
       "A data.frame: 6 × 48\n",
       "\n",
       "| <!--/--> | title &lt;chr&gt; | geo_accession &lt;chr&gt; | status &lt;chr&gt; | submission_date &lt;chr&gt; | last_update_date &lt;chr&gt; | type &lt;chr&gt; | channel_count &lt;chr&gt; | source_name_ch1 &lt;chr&gt; | organism_ch1 &lt;chr&gt; | characteristics_ch1 &lt;chr&gt; | ⋯ ⋯ | library_strategy &lt;chr&gt; | relation &lt;chr&gt; | relation.1 &lt;chr&gt; | supplementary_file_1 &lt;chr&gt; | carriage status:ch1 &lt;chr&gt; | cell type:ch1 &lt;chr&gt; | subject id:ch1 &lt;chr&gt; | subject status:ch1 &lt;chr&gt; | timepoint:ch1 &lt;chr&gt; | vaccine:ch1 &lt;chr&gt; |\n",
       "|---|---|---|---|---|---|---|---|---|---|---|---|---|---|---|---|---|---|---|---|---|---|\n",
       "| GSM3304158 | LAIV_nasal cells_S00153612 | GSM3304158 | Public on Jul 25 2018 | Jul 24 2018 | Jul 25 2018 | SRA | 1 | LAIV_nasal cells_D-4 | Homo sapiens | subject id: 1060/016/045 | ⋯ | RNA-Seq | BioSample: https://www.ncbi.nlm.nih.gov/biosample/SAMN09708854 | SRA: https://www.ncbi.nlm.nih.gov/sra?term=SRX4452073 | NONE | POS | nasal cells | 1060/016/045 | healthy volunteers experimentally challenged with pneumococcus | D-4 | live attenuated influenza vaccine (LAIV)        |\n",
       "| GSM3304159 | LAIV_nasal cells_S00153614 | GSM3304159 | Public on Jul 25 2018 | Jul 24 2018 | Jul 25 2018 | SRA | 1 | LAIV_nasal cells_D-4 | Homo sapiens | subject id: 1105/016/092 | ⋯ | RNA-Seq | BioSample: https://www.ncbi.nlm.nih.gov/biosample/SAMN09708853 | SRA: https://www.ncbi.nlm.nih.gov/sra?term=SRX4452074 | NONE | NEG | nasal cells | 1105/016/092 | healthy volunteers experimentally challenged with pneumococcus | D-4 | live attenuated influenza vaccine (LAIV)        |\n",
       "| GSM3304160 | LAIV_nasal cells_S00153615 | GSM3304160 | Public on Jul 25 2018 | Jul 24 2018 | Jul 25 2018 | SRA | 1 | LAIV_nasal cells_D-4 | Homo sapiens | subject id: 1069/016/055 | ⋯ | RNA-Seq | BioSample: https://www.ncbi.nlm.nih.gov/biosample/SAMN09708852 | SRA: https://www.ncbi.nlm.nih.gov/sra?term=SRX4452075 | NONE | POS | nasal cells | 1069/016/055 | healthy volunteers experimentally challenged with pneumococcus | D-4 | live attenuated influenza vaccine (LAIV)        |\n",
       "| GSM3304161 | TIV_nasal cells_S00153616  | GSM3304161 | Public on Jul 25 2018 | Jul 24 2018 | Jul 25 2018 | SRA | 1 | TIV_nasal cells_D-4  | Homo sapiens | subject id: 1089/016/076 | ⋯ | RNA-Seq | BioSample: https://www.ncbi.nlm.nih.gov/biosample/SAMN09708851 | SRA: https://www.ncbi.nlm.nih.gov/sra?term=SRX4452076 | NONE | NEG | nasal cells | 1089/016/076 | healthy volunteers experimentally challenged with pneumococcus | D-4 | tetravalent inactivated influenza vaccine (TIV) |\n",
       "| GSM3304162 | LAIV_nasal cells_S00154288 | GSM3304162 | Public on Jul 25 2018 | Jul 24 2018 | Jul 25 2018 | SRA | 1 | LAIV_nasal cells_D2  | Homo sapiens | subject id: 1060/016/045 | ⋯ | RNA-Seq | BioSample: https://www.ncbi.nlm.nih.gov/biosample/SAMN09708850 | SRA: https://www.ncbi.nlm.nih.gov/sra?term=SRX4452077 | NONE | POS | nasal cells | 1060/016/045 | healthy volunteers experimentally challenged with pneumococcus | D2  | live attenuated influenza vaccine (LAIV)        |\n",
       "| GSM3304163 | LAIV_nasal cells_S00154289 | GSM3304163 | Public on Jul 25 2018 | Jul 24 2018 | Jul 25 2018 | SRA | 1 | LAIV_nasal cells_D2  | Homo sapiens | subject id: 1069/016/055 | ⋯ | RNA-Seq | BioSample: https://www.ncbi.nlm.nih.gov/biosample/SAMN09708849 | SRA: https://www.ncbi.nlm.nih.gov/sra?term=SRX4452078 | NONE | POS | nasal cells | 1069/016/055 | healthy volunteers experimentally challenged with pneumococcus | D2  | live attenuated influenza vaccine (LAIV)        |\n",
       "\n"
      ],
      "text/plain": [
       "           title                      geo_accession status               \n",
       "GSM3304158 LAIV_nasal cells_S00153612 GSM3304158    Public on Jul 25 2018\n",
       "GSM3304159 LAIV_nasal cells_S00153614 GSM3304159    Public on Jul 25 2018\n",
       "GSM3304160 LAIV_nasal cells_S00153615 GSM3304160    Public on Jul 25 2018\n",
       "GSM3304161 TIV_nasal cells_S00153616  GSM3304161    Public on Jul 25 2018\n",
       "GSM3304162 LAIV_nasal cells_S00154288 GSM3304162    Public on Jul 25 2018\n",
       "GSM3304163 LAIV_nasal cells_S00154289 GSM3304163    Public on Jul 25 2018\n",
       "           submission_date last_update_date type channel_count\n",
       "GSM3304158 Jul 24 2018     Jul 25 2018      SRA  1            \n",
       "GSM3304159 Jul 24 2018     Jul 25 2018      SRA  1            \n",
       "GSM3304160 Jul 24 2018     Jul 25 2018      SRA  1            \n",
       "GSM3304161 Jul 24 2018     Jul 25 2018      SRA  1            \n",
       "GSM3304162 Jul 24 2018     Jul 25 2018      SRA  1            \n",
       "GSM3304163 Jul 24 2018     Jul 25 2018      SRA  1            \n",
       "           source_name_ch1      organism_ch1 characteristics_ch1      ⋯\n",
       "GSM3304158 LAIV_nasal cells_D-4 Homo sapiens subject id: 1060/016/045 ⋯\n",
       "GSM3304159 LAIV_nasal cells_D-4 Homo sapiens subject id: 1105/016/092 ⋯\n",
       "GSM3304160 LAIV_nasal cells_D-4 Homo sapiens subject id: 1069/016/055 ⋯\n",
       "GSM3304161 TIV_nasal cells_D-4  Homo sapiens subject id: 1089/016/076 ⋯\n",
       "GSM3304162 LAIV_nasal cells_D2  Homo sapiens subject id: 1060/016/045 ⋯\n",
       "GSM3304163 LAIV_nasal cells_D2  Homo sapiens subject id: 1069/016/055 ⋯\n",
       "           library_strategy\n",
       "GSM3304158 RNA-Seq         \n",
       "GSM3304159 RNA-Seq         \n",
       "GSM3304160 RNA-Seq         \n",
       "GSM3304161 RNA-Seq         \n",
       "GSM3304162 RNA-Seq         \n",
       "GSM3304163 RNA-Seq         \n",
       "           relation                                                      \n",
       "GSM3304158 BioSample: https://www.ncbi.nlm.nih.gov/biosample/SAMN09708854\n",
       "GSM3304159 BioSample: https://www.ncbi.nlm.nih.gov/biosample/SAMN09708853\n",
       "GSM3304160 BioSample: https://www.ncbi.nlm.nih.gov/biosample/SAMN09708852\n",
       "GSM3304161 BioSample: https://www.ncbi.nlm.nih.gov/biosample/SAMN09708851\n",
       "GSM3304162 BioSample: https://www.ncbi.nlm.nih.gov/biosample/SAMN09708850\n",
       "GSM3304163 BioSample: https://www.ncbi.nlm.nih.gov/biosample/SAMN09708849\n",
       "           relation.1                                           \n",
       "GSM3304158 SRA: https://www.ncbi.nlm.nih.gov/sra?term=SRX4452073\n",
       "GSM3304159 SRA: https://www.ncbi.nlm.nih.gov/sra?term=SRX4452074\n",
       "GSM3304160 SRA: https://www.ncbi.nlm.nih.gov/sra?term=SRX4452075\n",
       "GSM3304161 SRA: https://www.ncbi.nlm.nih.gov/sra?term=SRX4452076\n",
       "GSM3304162 SRA: https://www.ncbi.nlm.nih.gov/sra?term=SRX4452077\n",
       "GSM3304163 SRA: https://www.ncbi.nlm.nih.gov/sra?term=SRX4452078\n",
       "           supplementary_file_1 carriage status:ch1 cell type:ch1\n",
       "GSM3304158 NONE                 POS                 nasal cells  \n",
       "GSM3304159 NONE                 NEG                 nasal cells  \n",
       "GSM3304160 NONE                 POS                 nasal cells  \n",
       "GSM3304161 NONE                 NEG                 nasal cells  \n",
       "GSM3304162 NONE                 POS                 nasal cells  \n",
       "GSM3304163 NONE                 POS                 nasal cells  \n",
       "           subject id:ch1\n",
       "GSM3304158 1060/016/045  \n",
       "GSM3304159 1105/016/092  \n",
       "GSM3304160 1069/016/055  \n",
       "GSM3304161 1089/016/076  \n",
       "GSM3304162 1060/016/045  \n",
       "GSM3304163 1069/016/055  \n",
       "           subject status:ch1                                            \n",
       "GSM3304158 healthy volunteers experimentally challenged with pneumococcus\n",
       "GSM3304159 healthy volunteers experimentally challenged with pneumococcus\n",
       "GSM3304160 healthy volunteers experimentally challenged with pneumococcus\n",
       "GSM3304161 healthy volunteers experimentally challenged with pneumococcus\n",
       "GSM3304162 healthy volunteers experimentally challenged with pneumococcus\n",
       "GSM3304163 healthy volunteers experimentally challenged with pneumococcus\n",
       "           timepoint:ch1 vaccine:ch1                                    \n",
       "GSM3304158 D-4           live attenuated influenza vaccine (LAIV)       \n",
       "GSM3304159 D-4           live attenuated influenza vaccine (LAIV)       \n",
       "GSM3304160 D-4           live attenuated influenza vaccine (LAIV)       \n",
       "GSM3304161 D-4           tetravalent inactivated influenza vaccine (TIV)\n",
       "GSM3304162 D2            live attenuated influenza vaccine (LAIV)       \n",
       "GSM3304163 D2            live attenuated influenza vaccine (LAIV)       "
      ]
     },
     "metadata": {},
     "output_type": "display_data"
    }
   ],
   "source": [
    "head(pData(eset$GSE117580_series_matrix.txt.gz))"
   ]
  },
  {
   "cell_type": "code",
   "execution_count": 52,
   "metadata": {},
   "outputs": [
    {
     "data": {
      "text/html": [
       "<table class=\"dataframe\">\n",
       "<caption>A data.frame: 6 × 4</caption>\n",
       "<thead>\n",
       "\t<tr><th></th><th scope=col>volunteer_id</th><th scope=col>carriage</th><th scope=col>timepoint</th><th scope=col>vaccine</th></tr>\n",
       "\t<tr><th></th><th scope=col>&lt;chr&gt;</th><th scope=col>&lt;chr&gt;</th><th scope=col>&lt;chr&gt;</th><th scope=col>&lt;chr&gt;</th></tr>\n",
       "</thead>\n",
       "<tbody>\n",
       "\t<tr><th scope=row>GSM3304158</th><td>1060/016/045</td><td>POS</td><td>D-4</td><td>LAIV</td></tr>\n",
       "\t<tr><th scope=row>GSM3304159</th><td>1105/016/092</td><td>NEG</td><td>D-4</td><td>LAIV</td></tr>\n",
       "\t<tr><th scope=row>GSM3304160</th><td>1069/016/055</td><td>POS</td><td>D-4</td><td>LAIV</td></tr>\n",
       "\t<tr><th scope=row>GSM3304161</th><td>1089/016/076</td><td>NEG</td><td>D-4</td><td>TIV </td></tr>\n",
       "\t<tr><th scope=row>GSM3304162</th><td>1060/016/045</td><td>POS</td><td>D2 </td><td>LAIV</td></tr>\n",
       "\t<tr><th scope=row>GSM3304163</th><td>1069/016/055</td><td>POS</td><td>D2 </td><td>LAIV</td></tr>\n",
       "</tbody>\n",
       "</table>\n"
      ],
      "text/latex": [
       "A data.frame: 6 × 4\n",
       "\\begin{tabular}{r|llll}\n",
       "  & volunteer\\_id & carriage & timepoint & vaccine\\\\\n",
       "  & <chr> & <chr> & <chr> & <chr>\\\\\n",
       "\\hline\n",
       "\tGSM3304158 & 1060/016/045 & POS & D-4 & LAIV\\\\\n",
       "\tGSM3304159 & 1105/016/092 & NEG & D-4 & LAIV\\\\\n",
       "\tGSM3304160 & 1069/016/055 & POS & D-4 & LAIV\\\\\n",
       "\tGSM3304161 & 1089/016/076 & NEG & D-4 & TIV \\\\\n",
       "\tGSM3304162 & 1060/016/045 & POS & D2  & LAIV\\\\\n",
       "\tGSM3304163 & 1069/016/055 & POS & D2  & LAIV\\\\\n",
       "\\end{tabular}\n"
      ],
      "text/markdown": [
       "\n",
       "A data.frame: 6 × 4\n",
       "\n",
       "| <!--/--> | volunteer_id &lt;chr&gt; | carriage &lt;chr&gt; | timepoint &lt;chr&gt; | vaccine &lt;chr&gt; |\n",
       "|---|---|---|---|---|\n",
       "| GSM3304158 | 1060/016/045 | POS | D-4 | LAIV |\n",
       "| GSM3304159 | 1105/016/092 | NEG | D-4 | LAIV |\n",
       "| GSM3304160 | 1069/016/055 | POS | D-4 | LAIV |\n",
       "| GSM3304161 | 1089/016/076 | NEG | D-4 | TIV  |\n",
       "| GSM3304162 | 1060/016/045 | POS | D2  | LAIV |\n",
       "| GSM3304163 | 1069/016/055 | POS | D2  | LAIV |\n",
       "\n"
      ],
      "text/plain": [
       "           volunteer_id carriage timepoint vaccine\n",
       "GSM3304158 1060/016/045 POS      D-4       LAIV   \n",
       "GSM3304159 1105/016/092 NEG      D-4       LAIV   \n",
       "GSM3304160 1069/016/055 POS      D-4       LAIV   \n",
       "GSM3304161 1089/016/076 NEG      D-4       TIV    \n",
       "GSM3304162 1060/016/045 POS      D2        LAIV   \n",
       "GSM3304163 1069/016/055 POS      D2        LAIV   "
      ]
     },
     "metadata": {},
     "output_type": "display_data"
    }
   ],
   "source": [
    "pdata <- pData(eset[[1]]) %>%\n",
    "    select(\"subject id:ch1\",'carriage status:ch1','timepoint:ch1','vaccine:ch1') %>%\n",
    "    setNames(c('volunteer_id','carriage','timepoint','vaccine')) %>%\n",
    "    mutate(vaccine = gsub('.* \\\\(','',gsub('\\\\)','',vaccine)))\n",
    "# table(pdata$carriage)\n",
    "# table(pdata$timepoint)\n",
    "# table(pdata$vaccine)\n",
    "head(pdata)"
   ]
  },
  {
   "cell_type": "code",
   "execution_count": 53,
   "metadata": {},
   "outputs": [
    {
     "data": {
      "text/html": [
       "<table class=\"dataframe\">\n",
       "<caption>A data.frame: 6 × 6</caption>\n",
       "<thead>\n",
       "\t<tr><th></th><th scope=col>volunteer_id</th><th scope=col>study</th><th scope=col>group</th><th scope=col>sex</th><th scope=col>carriage</th><th scope=col>density</th></tr>\n",
       "\t<tr><th></th><th scope=col>&lt;chr&gt;</th><th scope=col>&lt;chr&gt;</th><th scope=col>&lt;chr&gt;</th><th scope=col>&lt;chr&gt;</th><th scope=col>&lt;chr&gt;</th><th scope=col>&lt;dbl&gt;</th></tr>\n",
       "</thead>\n",
       "<tbody>\n",
       "\t<tr><th scope=row>1</th><td>152/01 </td><td>Gates_Doseranging</td><td>NA</td><td>F</td><td>NEG</td><td>       NA</td></tr>\n",
       "\t<tr><th scope=row>2</th><td>154/02 </td><td>Gates_Doseranging</td><td>NA</td><td>F</td><td>NEG</td><td>       NA</td></tr>\n",
       "\t<tr><th scope=row>3</th><td>183/164</td><td>Gates_Doseranging</td><td>NA</td><td>F</td><td>NEG</td><td>       NA</td></tr>\n",
       "\t<tr><th scope=row>4</th><td>187/03 </td><td>Gates_Doseranging</td><td>NA</td><td>F</td><td>POS</td><td>5.1343364</td></tr>\n",
       "\t<tr><th scope=row>5</th><td>188/04 </td><td>Gates_Doseranging</td><td>NA</td><td>F</td><td>POS</td><td>0.9063350</td></tr>\n",
       "\t<tr><th scope=row>6</th><td>189/05 </td><td>Gates_Doseranging</td><td>NA</td><td>F</td><td>POS</td><td>0.2966652</td></tr>\n",
       "</tbody>\n",
       "</table>\n"
      ],
      "text/latex": [
       "A data.frame: 6 × 6\n",
       "\\begin{tabular}{r|llllll}\n",
       "  & volunteer\\_id & study & group & sex & carriage & density\\\\\n",
       "  & <chr> & <chr> & <chr> & <chr> & <chr> & <dbl>\\\\\n",
       "\\hline\n",
       "\t1 & 152/01  & Gates\\_Doseranging & NA & F & NEG &        NA\\\\\n",
       "\t2 & 154/02  & Gates\\_Doseranging & NA & F & NEG &        NA\\\\\n",
       "\t3 & 183/164 & Gates\\_Doseranging & NA & F & NEG &        NA\\\\\n",
       "\t4 & 187/03  & Gates\\_Doseranging & NA & F & POS & 5.1343364\\\\\n",
       "\t5 & 188/04  & Gates\\_Doseranging & NA & F & POS & 0.9063350\\\\\n",
       "\t6 & 189/05  & Gates\\_Doseranging & NA & F & POS & 0.2966652\\\\\n",
       "\\end{tabular}\n"
      ],
      "text/markdown": [
       "\n",
       "A data.frame: 6 × 6\n",
       "\n",
       "| <!--/--> | volunteer_id &lt;chr&gt; | study &lt;chr&gt; | group &lt;chr&gt; | sex &lt;chr&gt; | carriage &lt;chr&gt; | density &lt;dbl&gt; |\n",
       "|---|---|---|---|---|---|---|\n",
       "| 1 | 152/01  | Gates_Doseranging | NA | F | NEG |        NA |\n",
       "| 2 | 154/02  | Gates_Doseranging | NA | F | NEG |        NA |\n",
       "| 3 | 183/164 | Gates_Doseranging | NA | F | NEG |        NA |\n",
       "| 4 | 187/03  | Gates_Doseranging | NA | F | POS | 5.1343364 |\n",
       "| 5 | 188/04  | Gates_Doseranging | NA | F | POS | 0.9063350 |\n",
       "| 6 | 189/05  | Gates_Doseranging | NA | F | POS | 0.2966652 |\n",
       "\n"
      ],
      "text/plain": [
       "  volunteer_id study             group sex carriage density  \n",
       "1 152/01       Gates_Doseranging NA    F   NEG             NA\n",
       "2 154/02       Gates_Doseranging NA    F   NEG             NA\n",
       "3 183/164      Gates_Doseranging NA    F   NEG             NA\n",
       "4 187/03       Gates_Doseranging NA    F   POS      5.1343364\n",
       "5 188/04       Gates_Doseranging NA    F   POS      0.9063350\n",
       "6 189/05       Gates_Doseranging NA    F   POS      0.2966652"
      ]
     },
     "metadata": {},
     "output_type": "display_data"
    }
   ],
   "source": [
    "meta <- read.delim('data/raw_data/EHPC_Density_Data_12MARCH2020.tsv') %>%\n",
    "    filter(!duplicated(volunteer_id)) %>%\n",
    "    select(volunteer_id,study, group, sex,  carriage, density)\n",
    "head(meta)"
   ]
  },
  {
   "cell_type": "code",
   "execution_count": 54,
   "metadata": {},
   "outputs": [
    {
     "data": {
      "text/html": [
       "<table class=\"dataframe\">\n",
       "<caption>A data.frame: 6 × 9</caption>\n",
       "<thead>\n",
       "\t<tr><th></th><th scope=col>volunteer_id</th><th scope=col>carriage.x</th><th scope=col>timepoint</th><th scope=col>vaccine</th><th scope=col>study</th><th scope=col>group</th><th scope=col>sex</th><th scope=col>carriage.y</th><th scope=col>density</th></tr>\n",
       "\t<tr><th></th><th scope=col>&lt;chr&gt;</th><th scope=col>&lt;chr&gt;</th><th scope=col>&lt;chr&gt;</th><th scope=col>&lt;chr&gt;</th><th scope=col>&lt;chr&gt;</th><th scope=col>&lt;chr&gt;</th><th scope=col>&lt;chr&gt;</th><th scope=col>&lt;chr&gt;</th><th scope=col>&lt;dbl&gt;</th></tr>\n",
       "</thead>\n",
       "<tbody>\n",
       "\t<tr><th scope=row>1</th><td>0231/016/006</td><td>POS</td><td>D2 </td><td>LAIV</td><td>LAIV1</td><td>LAIV</td><td>F</td><td>POS</td><td>0.5965971</td></tr>\n",
       "\t<tr><th scope=row>2</th><td>0231/016/006</td><td>POS</td><td>D-4</td><td>LAIV</td><td>LAIV1</td><td>LAIV</td><td>F</td><td>POS</td><td>0.5965971</td></tr>\n",
       "\t<tr><th scope=row>3</th><td>0231/016/006</td><td>POS</td><td>D9 </td><td>LAIV</td><td>LAIV1</td><td>LAIV</td><td>F</td><td>POS</td><td>0.5965971</td></tr>\n",
       "\t<tr><th scope=row>4</th><td>1025/016/009</td><td>NEG</td><td>D-4</td><td>LAIV</td><td>LAIV1</td><td>LAIV</td><td>M</td><td>NEG</td><td>       NA</td></tr>\n",
       "\t<tr><th scope=row>5</th><td>1025/016/009</td><td>NEG</td><td>D9 </td><td>LAIV</td><td>LAIV1</td><td>LAIV</td><td>M</td><td>NEG</td><td>       NA</td></tr>\n",
       "\t<tr><th scope=row>6</th><td>1025/016/009</td><td>NEG</td><td>D2 </td><td>LAIV</td><td>LAIV1</td><td>LAIV</td><td>M</td><td>NEG</td><td>       NA</td></tr>\n",
       "</tbody>\n",
       "</table>\n"
      ],
      "text/latex": [
       "A data.frame: 6 × 9\n",
       "\\begin{tabular}{r|lllllllll}\n",
       "  & volunteer\\_id & carriage.x & timepoint & vaccine & study & group & sex & carriage.y & density\\\\\n",
       "  & <chr> & <chr> & <chr> & <chr> & <chr> & <chr> & <chr> & <chr> & <dbl>\\\\\n",
       "\\hline\n",
       "\t1 & 0231/016/006 & POS & D2  & LAIV & LAIV1 & LAIV & F & POS & 0.5965971\\\\\n",
       "\t2 & 0231/016/006 & POS & D-4 & LAIV & LAIV1 & LAIV & F & POS & 0.5965971\\\\\n",
       "\t3 & 0231/016/006 & POS & D9  & LAIV & LAIV1 & LAIV & F & POS & 0.5965971\\\\\n",
       "\t4 & 1025/016/009 & NEG & D-4 & LAIV & LAIV1 & LAIV & M & NEG &        NA\\\\\n",
       "\t5 & 1025/016/009 & NEG & D9  & LAIV & LAIV1 & LAIV & M & NEG &        NA\\\\\n",
       "\t6 & 1025/016/009 & NEG & D2  & LAIV & LAIV1 & LAIV & M & NEG &        NA\\\\\n",
       "\\end{tabular}\n"
      ],
      "text/markdown": [
       "\n",
       "A data.frame: 6 × 9\n",
       "\n",
       "| <!--/--> | volunteer_id &lt;chr&gt; | carriage.x &lt;chr&gt; | timepoint &lt;chr&gt; | vaccine &lt;chr&gt; | study &lt;chr&gt; | group &lt;chr&gt; | sex &lt;chr&gt; | carriage.y &lt;chr&gt; | density &lt;dbl&gt; |\n",
       "|---|---|---|---|---|---|---|---|---|---|\n",
       "| 1 | 0231/016/006 | POS | D2  | LAIV | LAIV1 | LAIV | F | POS | 0.5965971 |\n",
       "| 2 | 0231/016/006 | POS | D-4 | LAIV | LAIV1 | LAIV | F | POS | 0.5965971 |\n",
       "| 3 | 0231/016/006 | POS | D9  | LAIV | LAIV1 | LAIV | F | POS | 0.5965971 |\n",
       "| 4 | 1025/016/009 | NEG | D-4 | LAIV | LAIV1 | LAIV | M | NEG |        NA |\n",
       "| 5 | 1025/016/009 | NEG | D9  | LAIV | LAIV1 | LAIV | M | NEG |        NA |\n",
       "| 6 | 1025/016/009 | NEG | D2  | LAIV | LAIV1 | LAIV | M | NEG |        NA |\n",
       "\n"
      ],
      "text/plain": [
       "  volunteer_id carriage.x timepoint vaccine study group sex carriage.y\n",
       "1 0231/016/006 POS        D2        LAIV    LAIV1 LAIV  F   POS       \n",
       "2 0231/016/006 POS        D-4       LAIV    LAIV1 LAIV  F   POS       \n",
       "3 0231/016/006 POS        D9        LAIV    LAIV1 LAIV  F   POS       \n",
       "4 1025/016/009 NEG        D-4       LAIV    LAIV1 LAIV  M   NEG       \n",
       "5 1025/016/009 NEG        D9        LAIV    LAIV1 LAIV  M   NEG       \n",
       "6 1025/016/009 NEG        D2        LAIV    LAIV1 LAIV  M   NEG       \n",
       "  density  \n",
       "1 0.5965971\n",
       "2 0.5965971\n",
       "3 0.5965971\n",
       "4        NA\n",
       "5        NA\n",
       "6        NA"
      ]
     },
     "metadata": {},
     "output_type": "display_data"
    }
   ],
   "source": [
    "meta.all <- merge(pdata, meta, by = 'volunteer_id', all.x = T)\n",
    "head(meta.all)"
   ]
  },
  {
   "cell_type": "code",
   "execution_count": 55,
   "metadata": {},
   "outputs": [
    {
     "data": {
      "text/plain": [
       "\n",
       "TRUE \n",
       "  96 "
      ]
     },
     "metadata": {},
     "output_type": "display_data"
    }
   ],
   "source": [
    "with(meta.all, table(carriage.x == carriage.y))"
   ]
  },
  {
   "cell_type": "code",
   "execution_count": 56,
   "metadata": {},
   "outputs": [
    {
     "data": {
      "text/plain": [
       "\n",
       "TRUE \n",
       "  96 "
      ]
     },
     "metadata": {},
     "output_type": "display_data"
    }
   ],
   "source": [
    "with(meta.all, table(vaccine == group))"
   ]
  },
  {
   "cell_type": "code",
   "execution_count": 57,
   "metadata": {},
   "outputs": [
    {
     "data": {
      "text/html": [
       "<table class=\"dataframe\">\n",
       "<caption>A data.frame: 6 × 9</caption>\n",
       "<thead>\n",
       "\t<tr><th></th><th scope=col>volunteer_id</th><th scope=col>carriage.x</th><th scope=col>timepoint</th><th scope=col>vaccine</th><th scope=col>study</th><th scope=col>group</th><th scope=col>sex</th><th scope=col>carriage.y</th><th scope=col>density</th></tr>\n",
       "\t<tr><th></th><th scope=col>&lt;chr&gt;</th><th scope=col>&lt;chr&gt;</th><th scope=col>&lt;chr&gt;</th><th scope=col>&lt;chr&gt;</th><th scope=col>&lt;chr&gt;</th><th scope=col>&lt;chr&gt;</th><th scope=col>&lt;chr&gt;</th><th scope=col>&lt;chr&gt;</th><th scope=col>&lt;dbl&gt;</th></tr>\n",
       "</thead>\n",
       "<tbody>\n",
       "\t<tr><th scope=row>1</th><td>0231/016/006</td><td>POS</td><td>D2 </td><td>LAIV</td><td>LAIV1</td><td>LAIV</td><td>F</td><td>POS</td><td>0.5965971</td></tr>\n",
       "\t<tr><th scope=row>2</th><td>0231/016/006</td><td>POS</td><td>D-4</td><td>LAIV</td><td>LAIV1</td><td>LAIV</td><td>F</td><td>POS</td><td>0.5965971</td></tr>\n",
       "\t<tr><th scope=row>3</th><td>0231/016/006</td><td>POS</td><td>D9 </td><td>LAIV</td><td>LAIV1</td><td>LAIV</td><td>F</td><td>POS</td><td>0.5965971</td></tr>\n",
       "\t<tr><th scope=row>4</th><td>1025/016/009</td><td>NEG</td><td>D-4</td><td>LAIV</td><td>LAIV1</td><td>LAIV</td><td>M</td><td>NEG</td><td>       NA</td></tr>\n",
       "\t<tr><th scope=row>5</th><td>1025/016/009</td><td>NEG</td><td>D9 </td><td>LAIV</td><td>LAIV1</td><td>LAIV</td><td>M</td><td>NEG</td><td>       NA</td></tr>\n",
       "\t<tr><th scope=row>6</th><td>1025/016/009</td><td>NEG</td><td>D2 </td><td>LAIV</td><td>LAIV1</td><td>LAIV</td><td>M</td><td>NEG</td><td>       NA</td></tr>\n",
       "</tbody>\n",
       "</table>\n"
      ],
      "text/latex": [
       "A data.frame: 6 × 9\n",
       "\\begin{tabular}{r|lllllllll}\n",
       "  & volunteer\\_id & carriage.x & timepoint & vaccine & study & group & sex & carriage.y & density\\\\\n",
       "  & <chr> & <chr> & <chr> & <chr> & <chr> & <chr> & <chr> & <chr> & <dbl>\\\\\n",
       "\\hline\n",
       "\t1 & 0231/016/006 & POS & D2  & LAIV & LAIV1 & LAIV & F & POS & 0.5965971\\\\\n",
       "\t2 & 0231/016/006 & POS & D-4 & LAIV & LAIV1 & LAIV & F & POS & 0.5965971\\\\\n",
       "\t3 & 0231/016/006 & POS & D9  & LAIV & LAIV1 & LAIV & F & POS & 0.5965971\\\\\n",
       "\t4 & 1025/016/009 & NEG & D-4 & LAIV & LAIV1 & LAIV & M & NEG &        NA\\\\\n",
       "\t5 & 1025/016/009 & NEG & D9  & LAIV & LAIV1 & LAIV & M & NEG &        NA\\\\\n",
       "\t6 & 1025/016/009 & NEG & D2  & LAIV & LAIV1 & LAIV & M & NEG &        NA\\\\\n",
       "\\end{tabular}\n"
      ],
      "text/markdown": [
       "\n",
       "A data.frame: 6 × 9\n",
       "\n",
       "| <!--/--> | volunteer_id &lt;chr&gt; | carriage.x &lt;chr&gt; | timepoint &lt;chr&gt; | vaccine &lt;chr&gt; | study &lt;chr&gt; | group &lt;chr&gt; | sex &lt;chr&gt; | carriage.y &lt;chr&gt; | density &lt;dbl&gt; |\n",
       "|---|---|---|---|---|---|---|---|---|---|\n",
       "| 1 | 0231/016/006 | POS | D2  | LAIV | LAIV1 | LAIV | F | POS | 0.5965971 |\n",
       "| 2 | 0231/016/006 | POS | D-4 | LAIV | LAIV1 | LAIV | F | POS | 0.5965971 |\n",
       "| 3 | 0231/016/006 | POS | D9  | LAIV | LAIV1 | LAIV | F | POS | 0.5965971 |\n",
       "| 4 | 1025/016/009 | NEG | D-4 | LAIV | LAIV1 | LAIV | M | NEG |        NA |\n",
       "| 5 | 1025/016/009 | NEG | D9  | LAIV | LAIV1 | LAIV | M | NEG |        NA |\n",
       "| 6 | 1025/016/009 | NEG | D2  | LAIV | LAIV1 | LAIV | M | NEG |        NA |\n",
       "\n"
      ],
      "text/plain": [
       "  volunteer_id carriage.x timepoint vaccine study group sex carriage.y\n",
       "1 0231/016/006 POS        D2        LAIV    LAIV1 LAIV  F   POS       \n",
       "2 0231/016/006 POS        D-4       LAIV    LAIV1 LAIV  F   POS       \n",
       "3 0231/016/006 POS        D9        LAIV    LAIV1 LAIV  F   POS       \n",
       "4 1025/016/009 NEG        D-4       LAIV    LAIV1 LAIV  M   NEG       \n",
       "5 1025/016/009 NEG        D9        LAIV    LAIV1 LAIV  M   NEG       \n",
       "6 1025/016/009 NEG        D2        LAIV    LAIV1 LAIV  M   NEG       \n",
       "  density  \n",
       "1 0.5965971\n",
       "2 0.5965971\n",
       "3 0.5965971\n",
       "4        NA\n",
       "5        NA\n",
       "6        NA"
      ]
     },
     "metadata": {},
     "output_type": "display_data"
    }
   ],
   "source": [
    "head(meta.all)"
   ]
  },
  {
   "cell_type": "code",
   "execution_count": 58,
   "metadata": {},
   "outputs": [
    {
     "data": {
      "text/plain": [
       "\n",
       "LAIV1 \n",
       "   96 "
      ]
     },
     "metadata": {},
     "output_type": "display_data"
    }
   ],
   "source": [
    "table(meta.all$study)"
   ]
  },
  {
   "cell_type": "code",
   "execution_count": 59,
   "metadata": {},
   "outputs": [
    {
     "data": {
      "text/plain": [
       "\n",
       "016 \n",
       " 96 "
      ]
     },
     "metadata": {},
     "output_type": "display_data"
    }
   ],
   "source": [
    "table(sapply(strsplit(meta.all$volunteer_id, '/'), `[[`,2))"
   ]
  },
  {
   "cell_type": "code",
   "execution_count": 62,
   "metadata": {},
   "outputs": [
    {
     "data": {
      "text/plain": [
       ", , timepoint = D-4, vaccine = LAIV\n",
       "\n",
       "              carriage\n",
       "volunteer_id   NEG POS\n",
       "  0231/016/006   0   1\n",
       "  1025/016/009   1   0\n",
       "  1036/016/020   0   1\n",
       "  1038/016/022   1   0\n",
       "  1040/016/024   1   0\n",
       "  1051/016/036   0   0\n",
       "  1058/016/043   0   0\n",
       "  1060/016/045   0   1\n",
       "  1069/016/055   0   1\n",
       "  1071/016/057   0   1\n",
       "  1075/016/061   0   1\n",
       "  1077/016/063   1   0\n",
       "  1084/016/071   0   0\n",
       "  1089/016/076   0   0\n",
       "  1091/016/078   1   0\n",
       "  1092/016/079   0   0\n",
       "  1096/016/083   1   0\n",
       "  1098/016/085   0   1\n",
       "  1105/016/092   1   0\n",
       "  1106/016/093   0   0\n",
       "  1114/016/101   0   1\n",
       "  1119/016/106   0   1\n",
       "  1138/016/125   0   0\n",
       "  1150/016/137   0   0\n",
       "  1155/016/142   0   0\n",
       "  1158/016/145   0   0\n",
       "  1161/016/148   0   0\n",
       "  1163/016/150   0   0\n",
       "  1168/016/155   0   1\n",
       "  1179/016/166   0   0\n",
       "  1184/016/171   0   0\n",
       "  1190/016/177   0   0\n",
       "  1193/016/180   1   0\n",
       "  1195/016/182   0   0\n",
       "  1204/016/191   0   0\n",
       "\n",
       ", , timepoint = D2, vaccine = LAIV\n",
       "\n",
       "              carriage\n",
       "volunteer_id   NEG POS\n",
       "  0231/016/006   0   1\n",
       "  1025/016/009   1   0\n",
       "  1036/016/020   0   1\n",
       "  1038/016/022   1   0\n",
       "  1040/016/024   1   0\n",
       "  1051/016/036   0   0\n",
       "  1058/016/043   0   0\n",
       "  1060/016/045   0   1\n",
       "  1069/016/055   0   1\n",
       "  1071/016/057   0   1\n",
       "  1075/016/061   0   1\n",
       "  1077/016/063   1   0\n",
       "  1084/016/071   0   0\n",
       "  1089/016/076   0   0\n",
       "  1091/016/078   1   0\n",
       "  1092/016/079   0   0\n",
       "  1096/016/083   1   0\n",
       "  1098/016/085   0   1\n",
       "  1105/016/092   1   0\n",
       "  1106/016/093   0   0\n",
       "  1114/016/101   0   1\n",
       "  1119/016/106   0   1\n",
       "  1138/016/125   0   0\n",
       "  1150/016/137   0   0\n",
       "  1155/016/142   0   0\n",
       "  1158/016/145   0   0\n",
       "  1161/016/148   0   0\n",
       "  1163/016/150   0   0\n",
       "  1168/016/155   0   1\n",
       "  1179/016/166   0   0\n",
       "  1184/016/171   0   0\n",
       "  1190/016/177   0   0\n",
       "  1193/016/180   1   0\n",
       "  1195/016/182   0   0\n",
       "  1204/016/191   0   0\n",
       "\n",
       ", , timepoint = D9, vaccine = LAIV\n",
       "\n",
       "              carriage\n",
       "volunteer_id   NEG POS\n",
       "  0231/016/006   0   1\n",
       "  1025/016/009   1   0\n",
       "  1036/016/020   0   1\n",
       "  1038/016/022   1   0\n",
       "  1040/016/024   1   0\n",
       "  1051/016/036   0   0\n",
       "  1058/016/043   0   0\n",
       "  1060/016/045   0   0\n",
       "  1069/016/055   0   1\n",
       "  1071/016/057   0   1\n",
       "  1075/016/061   0   1\n",
       "  1077/016/063   1   0\n",
       "  1084/016/071   0   0\n",
       "  1089/016/076   0   0\n",
       "  1091/016/078   1   0\n",
       "  1092/016/079   0   0\n",
       "  1096/016/083   1   0\n",
       "  1098/016/085   0   0\n",
       "  1105/016/092   0   0\n",
       "  1106/016/093   0   0\n",
       "  1114/016/101   0   0\n",
       "  1119/016/106   0   0\n",
       "  1138/016/125   0   0\n",
       "  1150/016/137   0   0\n",
       "  1155/016/142   0   0\n",
       "  1158/016/145   0   0\n",
       "  1161/016/148   0   0\n",
       "  1163/016/150   0   0\n",
       "  1168/016/155   0   0\n",
       "  1179/016/166   0   0\n",
       "  1184/016/171   0   0\n",
       "  1190/016/177   0   0\n",
       "  1193/016/180   1   0\n",
       "  1195/016/182   0   0\n",
       "  1204/016/191   0   0\n",
       "\n",
       ", , timepoint = D-4, vaccine = TIV\n",
       "\n",
       "              carriage\n",
       "volunteer_id   NEG POS\n",
       "  0231/016/006   0   0\n",
       "  1025/016/009   0   0\n",
       "  1036/016/020   0   0\n",
       "  1038/016/022   0   0\n",
       "  1040/016/024   0   0\n",
       "  1051/016/036   1   0\n",
       "  1058/016/043   1   0\n",
       "  1060/016/045   0   0\n",
       "  1069/016/055   0   0\n",
       "  1071/016/057   0   0\n",
       "  1075/016/061   0   0\n",
       "  1077/016/063   0   0\n",
       "  1084/016/071   1   0\n",
       "  1089/016/076   1   0\n",
       "  1091/016/078   0   0\n",
       "  1092/016/079   1   0\n",
       "  1096/016/083   0   0\n",
       "  1098/016/085   0   0\n",
       "  1105/016/092   0   0\n",
       "  1106/016/093   0   1\n",
       "  1114/016/101   0   0\n",
       "  1119/016/106   0   0\n",
       "  1138/016/125   0   1\n",
       "  1150/016/137   1   0\n",
       "  1155/016/142   1   0\n",
       "  1158/016/145   1   0\n",
       "  1161/016/148   0   1\n",
       "  1163/016/150   0   1\n",
       "  1168/016/155   0   0\n",
       "  1179/016/166   0   1\n",
       "  1184/016/171   0   1\n",
       "  1190/016/177   0   1\n",
       "  1193/016/180   0   0\n",
       "  1195/016/182   0   1\n",
       "  1204/016/191   0   1\n",
       "\n",
       ", , timepoint = D2, vaccine = TIV\n",
       "\n",
       "              carriage\n",
       "volunteer_id   NEG POS\n",
       "  0231/016/006   0   0\n",
       "  1025/016/009   0   0\n",
       "  1036/016/020   0   0\n",
       "  1038/016/022   0   0\n",
       "  1040/016/024   0   0\n",
       "  1051/016/036   1   0\n",
       "  1058/016/043   1   0\n",
       "  1060/016/045   0   0\n",
       "  1069/016/055   0   0\n",
       "  1071/016/057   0   0\n",
       "  1075/016/061   0   0\n",
       "  1077/016/063   0   0\n",
       "  1084/016/071   1   0\n",
       "  1089/016/076   0   0\n",
       "  1091/016/078   0   0\n",
       "  1092/016/079   1   0\n",
       "  1096/016/083   0   0\n",
       "  1098/016/085   0   0\n",
       "  1105/016/092   0   0\n",
       "  1106/016/093   0   1\n",
       "  1114/016/101   0   0\n",
       "  1119/016/106   0   0\n",
       "  1138/016/125   0   1\n",
       "  1150/016/137   1   0\n",
       "  1155/016/142   1   0\n",
       "  1158/016/145   1   0\n",
       "  1161/016/148   0   1\n",
       "  1163/016/150   0   1\n",
       "  1168/016/155   0   0\n",
       "  1179/016/166   0   1\n",
       "  1184/016/171   0   1\n",
       "  1190/016/177   0   1\n",
       "  1193/016/180   0   0\n",
       "  1195/016/182   0   1\n",
       "  1204/016/191   0   1\n",
       "\n",
       ", , timepoint = D9, vaccine = TIV\n",
       "\n",
       "              carriage\n",
       "volunteer_id   NEG POS\n",
       "  0231/016/006   0   0\n",
       "  1025/016/009   0   0\n",
       "  1036/016/020   0   0\n",
       "  1038/016/022   0   0\n",
       "  1040/016/024   0   0\n",
       "  1051/016/036   1   0\n",
       "  1058/016/043   1   0\n",
       "  1060/016/045   0   0\n",
       "  1069/016/055   0   0\n",
       "  1071/016/057   0   0\n",
       "  1075/016/061   0   0\n",
       "  1077/016/063   0   0\n",
       "  1084/016/071   1   0\n",
       "  1089/016/076   1   0\n",
       "  1091/016/078   0   0\n",
       "  1092/016/079   1   0\n",
       "  1096/016/083   0   0\n",
       "  1098/016/085   0   0\n",
       "  1105/016/092   0   0\n",
       "  1106/016/093   0   1\n",
       "  1114/016/101   0   0\n",
       "  1119/016/106   0   0\n",
       "  1138/016/125   0   0\n",
       "  1150/016/137   1   0\n",
       "  1155/016/142   1   0\n",
       "  1158/016/145   1   0\n",
       "  1161/016/148   0   1\n",
       "  1163/016/150   0   1\n",
       "  1168/016/155   0   0\n",
       "  1179/016/166   0   0\n",
       "  1184/016/171   0   1\n",
       "  1190/016/177   0   1\n",
       "  1193/016/180   0   0\n",
       "  1195/016/182   0   1\n",
       "  1204/016/191   0   1\n"
      ]
     },
     "metadata": {},
     "output_type": "display_data"
    }
   ],
   "source": [
    "table()"
   ]
  },
  {
   "cell_type": "code",
   "execution_count": null,
   "metadata": {},
   "outputs": [],
   "source": []
  }
 ],
 "metadata": {
  "kernelspec": {
   "display_name": "R",
   "language": "R",
   "name": "ir"
  },
  "language_info": {
   "codemirror_mode": "r",
   "file_extension": ".r",
   "mimetype": "text/x-r-source",
   "name": "R",
   "pygments_lexer": "r",
   "version": "4.0.5"
  }
 },
 "nbformat": 4,
 "nbformat_minor": 4
}
