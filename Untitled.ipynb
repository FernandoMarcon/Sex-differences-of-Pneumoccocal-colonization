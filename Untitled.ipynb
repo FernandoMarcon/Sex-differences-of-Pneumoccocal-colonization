{
 "cells": [
  {
   "cell_type": "code",
   "execution_count": 73,
   "metadata": {},
   "outputs": [
    {
     "data": {
      "text/html": [
       "<style>\n",
       ".dl-inline {width: auto; margin:0; padding: 0}\n",
       ".dl-inline>dt, .dl-inline>dd {float: none; width: auto; display: inline-block}\n",
       ".dl-inline>dt::after {content: \":\\0020\"; padding-right: .5ex}\n",
       ".dl-inline>dt:not(:first-of-type) {padding-left: .5ex}\n",
       "</style><dl class=dl-inline><dt>tidyverse</dt><dd>TRUE</dd><dt>data.table</dt><dd>TRUE</dd><dt>edgeR</dt><dd>TRUE</dd></dl>\n"
      ],
      "text/latex": [
       "\\begin{description*}\n",
       "\\item[tidyverse] TRUE\n",
       "\\item[data.table] TRUE\n",
       "\\item[edgeR] TRUE\n",
       "\\end{description*}\n"
      ],
      "text/markdown": [
       "tidyverse\n",
       ":   TRUEdata.table\n",
       ":   TRUEedgeR\n",
       ":   TRUE\n",
       "\n"
      ],
      "text/plain": [
       " tidyverse data.table      edgeR \n",
       "      TRUE       TRUE       TRUE "
      ]
     },
     "metadata": {},
     "output_type": "display_data"
    }
   ],
   "source": [
    "rm(list = ls())\n",
    "pkgs <- c('tidyverse','data.table','edgeR')\n",
    "suppressPackageStartupMessages(sapply(pkgs, require, character.only = T))"
   ]
  },
  {
   "cell_type": "markdown",
   "metadata": {},
   "source": [
    "glm approach vs classic approach: glm offers more flexibilities"
   ]
  },
  {
   "cell_type": "markdown",
   "metadata": {},
   "source": [
    "# GLM Approach\n",
    "- likelihood ratio tests\n",
    "- quasi-likelihood F-tests"
   ]
  },
  {
   "cell_type": "markdown",
   "metadata": {},
   "source": [
    "## quasi-likelihood F-tests\n",
    "-> differential expression analysis of bulk RNA-Seq data\n",
    "- gives stricter error rate control by accounting for the uncertainty in dispersion estimation"
   ]
  },
  {
   "cell_type": "markdown",
   "metadata": {},
   "source": [
    "## Likelihood ratio test\n",
    "- useful in some special cases:\n",
    "    - single-cell RNA-seq\n",
    "    - datasets with no replicates"
   ]
  },
  {
   "cell_type": "code",
   "execution_count": 95,
   "metadata": {},
   "outputs": [],
   "source": [
    "input.dir <- 'data//tidy_data//tables/'\n",
    "datasets <- c('Adults1','Adults2','Adults3','Elderly1')"
   ]
  },
  {
   "cell_type": "markdown",
   "metadata": {},
   "source": [
    "### Data"
   ]
  },
  {
   "cell_type": "code",
   "execution_count": 105,
   "metadata": {},
   "outputs": [
    {
     "name": "stderr",
     "output_type": "stream",
     "text": [
      "Adults1\n",
      "\n"
     ]
    },
    {
     "name": "stdout",
     "output_type": "stream",
     "text": [
      "\n",
      "Adults1_NEG_F Adults1_NEG_M Adults1_POS_F \n",
      "           10             6             8 \n"
     ]
    },
    {
     "name": "stderr",
     "output_type": "stream",
     "text": [
      "Adults2\n",
      "\n"
     ]
    },
    {
     "name": "stdout",
     "output_type": "stream",
     "text": [
      "\n",
      "Adults2_NEG_F Adults2_NEG_M Adults2_POS_F Adults2_POS_M \n",
      "            8             8            12             2 \n"
     ]
    },
    {
     "name": "stderr",
     "output_type": "stream",
     "text": [
      "Adults3\n",
      "\n"
     ]
    },
    {
     "name": "stdout",
     "output_type": "stream",
     "text": [
      "\n",
      "Adults3_NEG_F Adults3_NEG_M Adults3_POS_F Adults3_POS_M \n",
      "            8            18            26            20 \n"
     ]
    },
    {
     "name": "stderr",
     "output_type": "stream",
     "text": [
      "Elderly1\n",
      "\n"
     ]
    },
    {
     "name": "stdout",
     "output_type": "stream",
     "text": [
      "\n",
      "Elderly1_NEG_F Elderly1_NEG_M Elderly1_POS_F Elderly1_POS_M \n",
      "            26             24             22             10 \n"
     ]
    }
   ],
   "source": [
    "for(dataset.name in datasets) { # dataset.name = datasets[1]\n",
    "    message(dataset.name)\n",
    "    counts <- fread(file.path(input.dir, paste0(dataset.name, '_counts.csv'))) %>% data.frame(row.names = 1)\n",
    "    pheno <- fread(file.path(input.dir, paste0(dataset.name, '_pheno.csv'))) %>% data.frame(row.names = 1)\n",
    "    \n",
    "    # Remove incomplete volunteers (only one timepoint)\n",
    "    vol_keep <- pheno %>% group_by(volunteer_id) %>% summarize(num_samples = n()) %>% filter(num_samples > 1) %>% .$volunteer_id\n",
    "    pheno <- pheno[which(pheno$volunteer_id %in% vol_keep),]\n",
    "    counts <- counts[,rownames(pheno)]\n",
    "    \n",
    "    # Groups as factors\n",
    "    pheno$volunteer_id <- as.factor(pheno$volunteer_id)\n",
    "    pheno$timepoint <- as.factor(pheno$timepoint) %>% relevel(ref = 'baseline')\n",
    "    pheno$class <- as.factor(pheno$class)\n",
    "    \n",
    "    table(pheno$class) %>% print\n",
    "    }"
   ]
  },
  {
   "cell_type": "markdown",
   "metadata": {},
   "source": [
    "# Quick Start"
   ]
  },
  {
   "cell_type": "code",
   "execution_count": 80,
   "metadata": {},
   "outputs": [],
   "source": [
    "y <- DGEList(counts = counts, samples = pheno)"
   ]
  },
  {
   "cell_type": "code",
   "execution_count": 81,
   "metadata": {},
   "outputs": [],
   "source": [
    "# The filtering should be based on the grouping factors or treatment factors that will be involved\n",
    "# in the differential expression teststested for, rather than on blocking variables that are not\n",
    "# of scientific interest in themselves.\n",
    "design <- as.matrix(data.frame(Adults1_NEG_F = pheno$class == 'Adults1_NEG_F' & pheno$timepoint == 'D2',\n",
    "                                     Adults1_NEG_M = pheno$class == 'Adults1_NEG_M' & pheno$timepoint == 'D2',\n",
    "                                     Adults1_POS_F = pheno$class == 'Adults1_POS_F' & pheno$timepoint == 'D2'))\n",
    "keep <- filterByExpr(y, design)\n",
    "y <- y[keep,,keep.lib.sizes=FALSE]\n",
    "y <- calcNormFactors(y)"
   ]
  },
  {
   "cell_type": "code",
   "execution_count": 82,
   "metadata": {},
   "outputs": [],
   "source": [
    "design <- cbind(model.matrix(~volunteer_id, data = pheno), design)\n",
    "y <- estimateDisp(y,design)"
   ]
  },
  {
   "cell_type": "markdown",
   "metadata": {},
   "source": [
    "To perform quasi-likelihood F-tests:"
   ]
  },
  {
   "cell_type": "code",
   "execution_count": 83,
   "metadata": {},
   "outputs": [],
   "source": [
    "fit <- glmQLFit(y,design)"
   ]
  },
  {
   "cell_type": "code",
   "execution_count": 84,
   "metadata": {},
   "outputs": [],
   "source": [
    "qlf <- lapply(levels(pheno$class), function(group) {\n",
    "    qlf <- glmQLFTest(fit,coef = group)\n",
    "    topTags(qlf,n = Inf) %>% as.data.frame %>% mutate(class = group)\n",
    "})"
   ]
  },
  {
   "cell_type": "code",
   "execution_count": 85,
   "metadata": {},
   "outputs": [
    {
     "data": {
      "text/html": [
       "<table class=\"dataframe\">\n",
       "<caption>A tibble: 3 × 2</caption>\n",
       "<thead>\n",
       "\t<tr><th></th><th scope=col>class</th><th scope=col>num_degs</th></tr>\n",
       "\t<tr><th></th><th scope=col>&lt;chr&gt;</th><th scope=col>&lt;int&gt;</th></tr>\n",
       "</thead>\n",
       "<tbody>\n",
       "\t<tr><th scope=row>1</th><td>Adults1_NEG_F</td><td> 85</td></tr>\n",
       "\t<tr><th scope=row>2</th><td>Adults1_NEG_M</td><td>688</td></tr>\n",
       "\t<tr><th scope=row>3</th><td>Adults1_POS_F</td><td> 76</td></tr>\n",
       "</tbody>\n",
       "</table>\n"
      ],
      "text/latex": [
       "A tibble: 3 × 2\n",
       "\\begin{tabular}{r|ll}\n",
       "  & class & num\\_degs\\\\\n",
       "  & <chr> & <int>\\\\\n",
       "\\hline\n",
       "\t1 & Adults1\\_NEG\\_F &  85\\\\\n",
       "\t2 & Adults1\\_NEG\\_M & 688\\\\\n",
       "\t3 & Adults1\\_POS\\_F &  76\\\\\n",
       "\\end{tabular}\n"
      ],
      "text/markdown": [
       "\n",
       "A tibble: 3 × 2\n",
       "\n",
       "| <!--/--> | class &lt;chr&gt; | num_degs &lt;int&gt; |\n",
       "|---|---|---|\n",
       "| 1 | Adults1_NEG_F |  85 |\n",
       "| 2 | Adults1_NEG_M | 688 |\n",
       "| 3 | Adults1_POS_F |  76 |\n",
       "\n"
      ],
      "text/plain": [
       "  class         num_degs\n",
       "1 Adults1_NEG_F  85     \n",
       "2 Adults1_NEG_M 688     \n",
       "3 Adults1_POS_F  76     "
      ]
     },
     "metadata": {},
     "output_type": "display_data"
    }
   ],
   "source": [
    "Reduce(rbind, qlf) %>% filter(PValue < 0.01, abs(logFC) >0 ) %>% group_by(class) %>% summarise(num_degs = n())"
   ]
  },
  {
   "cell_type": "code",
   "execution_count": 86,
   "metadata": {},
   "outputs": [
    {
     "data": {
      "text/html": [
       "<table class=\"dataframe\">\n",
       "<caption>A tibble: 0 × 2</caption>\n",
       "<thead>\n",
       "\t<tr><th scope=col>class</th><th scope=col>num_degs</th></tr>\n",
       "\t<tr><th scope=col>&lt;chr&gt;</th><th scope=col>&lt;int&gt;</th></tr>\n",
       "</thead>\n",
       "<tbody>\n",
       "</tbody>\n",
       "</table>\n"
      ],
      "text/latex": [
       "A tibble: 0 × 2\n",
       "\\begin{tabular}{ll}\n",
       " class & num\\_degs\\\\\n",
       " <chr> & <int>\\\\\n",
       "\\hline\n",
       "\\end{tabular}\n"
      ],
      "text/markdown": [
       "\n",
       "A tibble: 0 × 2\n",
       "\n",
       "| class &lt;chr&gt; | num_degs &lt;int&gt; |\n",
       "|---|---|\n",
       "\n"
      ],
      "text/plain": [
       "     class num_degs"
      ]
     },
     "metadata": {},
     "output_type": "display_data"
    }
   ],
   "source": [
    "Reduce(rbind, qlf) %>% filter(FDR < 0.01, abs(logFC) >0 ) %>% group_by(class) %>% summarise(num_degs = n())"
   ]
  },
  {
   "cell_type": "markdown",
   "metadata": {},
   "source": [
    "To perform likelihood ratio tests:"
   ]
  },
  {
   "cell_type": "code",
   "execution_count": 87,
   "metadata": {},
   "outputs": [],
   "source": [
    "fit <- glmFit(y,design)"
   ]
  },
  {
   "cell_type": "code",
   "execution_count": 88,
   "metadata": {},
   "outputs": [],
   "source": [
    "lrt <- lapply(levels(pheno$class), function(group) {\n",
    "    lrt <- glmLRT(fit,coef=group)\n",
    "    topTags(lrt,n = Inf) %>% as.data.frame %>% mutate(class = group)\n",
    "})"
   ]
  },
  {
   "cell_type": "code",
   "execution_count": 89,
   "metadata": {},
   "outputs": [
    {
     "data": {
      "text/html": [
       "<table class=\"dataframe\">\n",
       "<caption>A tibble: 3 × 2</caption>\n",
       "<thead>\n",
       "\t<tr><th></th><th scope=col>class</th><th scope=col>num_degs</th></tr>\n",
       "\t<tr><th></th><th scope=col>&lt;chr&gt;</th><th scope=col>&lt;int&gt;</th></tr>\n",
       "</thead>\n",
       "<tbody>\n",
       "\t<tr><th scope=row>1</th><td>Adults1_NEG_F</td><td>137</td></tr>\n",
       "\t<tr><th scope=row>2</th><td>Adults1_NEG_M</td><td>785</td></tr>\n",
       "\t<tr><th scope=row>3</th><td>Adults1_POS_F</td><td>172</td></tr>\n",
       "</tbody>\n",
       "</table>\n"
      ],
      "text/latex": [
       "A tibble: 3 × 2\n",
       "\\begin{tabular}{r|ll}\n",
       "  & class & num\\_degs\\\\\n",
       "  & <chr> & <int>\\\\\n",
       "\\hline\n",
       "\t1 & Adults1\\_NEG\\_F & 137\\\\\n",
       "\t2 & Adults1\\_NEG\\_M & 785\\\\\n",
       "\t3 & Adults1\\_POS\\_F & 172\\\\\n",
       "\\end{tabular}\n"
      ],
      "text/markdown": [
       "\n",
       "A tibble: 3 × 2\n",
       "\n",
       "| <!--/--> | class &lt;chr&gt; | num_degs &lt;int&gt; |\n",
       "|---|---|---|\n",
       "| 1 | Adults1_NEG_F | 137 |\n",
       "| 2 | Adults1_NEG_M | 785 |\n",
       "| 3 | Adults1_POS_F | 172 |\n",
       "\n"
      ],
      "text/plain": [
       "  class         num_degs\n",
       "1 Adults1_NEG_F 137     \n",
       "2 Adults1_NEG_M 785     \n",
       "3 Adults1_POS_F 172     "
      ]
     },
     "metadata": {},
     "output_type": "display_data"
    }
   ],
   "source": [
    "Reduce(rbind, lrt) %>% filter(PValue < 0.01, abs(logFC) >0 ) %>% group_by(class) %>% summarise(num_degs = n())"
   ]
  },
  {
   "cell_type": "code",
   "execution_count": 90,
   "metadata": {},
   "outputs": [
    {
     "data": {
      "text/html": [
       "<table class=\"dataframe\">\n",
       "<caption>A tibble: 2 × 2</caption>\n",
       "<thead>\n",
       "\t<tr><th></th><th scope=col>class</th><th scope=col>num_degs</th></tr>\n",
       "\t<tr><th></th><th scope=col>&lt;chr&gt;</th><th scope=col>&lt;int&gt;</th></tr>\n",
       "</thead>\n",
       "<tbody>\n",
       "\t<tr><th scope=row>1</th><td>Adults1_NEG_F</td><td>4</td></tr>\n",
       "\t<tr><th scope=row>2</th><td>Adults1_NEG_M</td><td>3</td></tr>\n",
       "</tbody>\n",
       "</table>\n"
      ],
      "text/latex": [
       "A tibble: 2 × 2\n",
       "\\begin{tabular}{r|ll}\n",
       "  & class & num\\_degs\\\\\n",
       "  & <chr> & <int>\\\\\n",
       "\\hline\n",
       "\t1 & Adults1\\_NEG\\_F & 4\\\\\n",
       "\t2 & Adults1\\_NEG\\_M & 3\\\\\n",
       "\\end{tabular}\n"
      ],
      "text/markdown": [
       "\n",
       "A tibble: 2 × 2\n",
       "\n",
       "| <!--/--> | class &lt;chr&gt; | num_degs &lt;int&gt; |\n",
       "|---|---|---|\n",
       "| 1 | Adults1_NEG_F | 4 |\n",
       "| 2 | Adults1_NEG_M | 3 |\n",
       "\n"
      ],
      "text/plain": [
       "  class         num_degs\n",
       "1 Adults1_NEG_F 4       \n",
       "2 Adults1_NEG_M 3       "
      ]
     },
     "metadata": {},
     "output_type": "display_data"
    }
   ],
   "source": [
    "Reduce(rbind, lrt) %>% filter(FDR < 0.01, abs(logFC) >0 ) %>% group_by(class) %>% summarise(num_degs = n())"
   ]
  },
  {
   "cell_type": "code",
   "execution_count": null,
   "metadata": {},
   "outputs": [],
   "source": []
  },
  {
   "cell_type": "code",
   "execution_count": null,
   "metadata": {},
   "outputs": [],
   "source": []
  }
 ],
 "metadata": {
  "kernelspec": {
   "display_name": "R",
   "language": "R",
   "name": "ir"
  },
  "language_info": {
   "codemirror_mode": "r",
   "file_extension": ".r",
   "mimetype": "text/x-r-source",
   "name": "R",
   "pygments_lexer": "r",
   "version": "4.0.5"
  }
 },
 "nbformat": 4,
 "nbformat_minor": 4
}
